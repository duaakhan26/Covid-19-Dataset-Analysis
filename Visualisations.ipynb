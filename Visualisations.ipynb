{
 "cells": [
  {
   "cell_type": "code",
   "execution_count": 12,
   "id": "9abd2e2a",
   "metadata": {},
   "outputs": [],
   "source": [
    "import streamlit as st\n",
    "import plotly.express as px\n",
    "import pandas as pd"
   ]
  },
  {
   "cell_type": "code",
   "execution_count": 13,
   "id": "59da3732",
   "metadata": {},
   "outputs": [],
   "source": [
    "dataset=pd.read_excel('owid_covid_latest_cleaned.xlsx')"
   ]
  },
  {
   "cell_type": "code",
   "execution_count": 14,
   "id": "8cf850d4",
   "metadata": {},
   "outputs": [
    {
     "data": {
      "text/plain": [
       "DeltaGenerator()"
      ]
     },
     "execution_count": 14,
     "metadata": {},
     "output_type": "execute_result"
    }
   ],
   "source": [
    "st.set_page_config(page_title=\"InfecTech\", page_icon=\":microbe:\", layout=\"wide\")\n",
    "st.markdown(\"<h1 style='text-align: center; font-size: 78px;  margin-top: -75px; font-family: Georgia, serif; color: LimeGreen;'>InfecTech</h1>\", unsafe_allow_html=True)"
   ]
  },
  {
   "cell_type": "code",
   "execution_count": 15,
   "id": "a0b86def",
   "metadata": {},
   "outputs": [
    {
     "data": {
      "text/plain": [
       "DeltaGenerator(_root_container=1, _parent=DeltaGenerator())"
      ]
     },
     "execution_count": 15,
     "metadata": {},
     "output_type": "execute_result"
    }
   ],
   "source": [
    "st.sidebar.header(\"Browse\")"
   ]
  },
  {
   "cell_type": "code",
   "execution_count": 16,
   "id": "5fb97ab5",
   "metadata": {},
   "outputs": [
    {
     "data": {
      "text/plain": [
       "DeltaGenerator()"
      ]
     },
     "execution_count": 16,
     "metadata": {},
     "output_type": "execute_result"
    }
   ],
   "source": [
    "visualisation = st.sidebar.selectbox('Select a Chart Type', ('Pie Chart', 'Line Chart'))\n",
    "#country_select = st.sidebar.selectbox('Select a Country', dataset['location'].unique())\n",
    "status_select = st.sidebar.radio(\"Covid-19 Case Status\", ('population', 'total_cases', 'total_deaths', 'new_cases', 'total_vaccinations', 'total_boosters', 'handwashing_facilities', 'cardiovasc_death_rate'))\n",
    "#selected_country = dataset[dataset['location']==country_select]\n",
    "st.markdown(\"<h1 style='text-align: center; font-size: 50px; '>Country Level Analysis</h1>\", unsafe_allow_html=True)"
   ]
  },
  {
   "cell_type": "code",
   "execution_count": 17,
   "id": "eee60c93",
   "metadata": {},
   "outputs": [],
   "source": [
    "def get_total_dataframe(dataset):\n",
    "    total_dataframe = pd.DataFrame({\n",
    "        'Status': ['New', 'Deaths', 'Confirmed'],\n",
    "        'Number of cases': [dataset.iloc[0]['new_cases'], dataset.iloc[0]['total_deaths'], dataset.iloc[0]['total_cases']]\n",
    "    })\n",
    "    return total_dataframe\n",
    "\n",
    "#state_total = get_total_dataframe(selected_country)\n",
    "if visualisation=='Pie Chart':\n",
    "    if status_select== 'total_cases':\n",
    "        st.header(\"Total Confirmed Cases \")\n",
    "        fig = px.pie(dataset, values=dataset['total_cases'], names=dataset['location'])\n",
    "        st.plotly_chart (fig)\n",
    "    elif status_select=='new_cases':\n",
    "        st.header(\"Total Active Cases \")\n",
    "        fig = px.pie(dataset, values=dataset['new_cases'], names=dataset['location'])\n",
    "        st.plotly_chart (fig)\n",
    "    elif status_select=='total_deaths':\n",
    "        st.header(\"Total Death Cases \")\n",
    "        fig = px.pie(dataset, values=dataset['total_deaths'], names=dataset['location'])\n",
    "        st.plotly_chart (fig)\n",
    "    elif status_select=='total_vaccinations':\n",
    "        st.header(\"Total Vaccinations \")\n",
    "        fig = px.pie(dataset, values=dataset['total_vaccinations'], names=dataset['location'])\n",
    "        st.plotly_chart (fig)\n",
    "    elif status_select=='total_boosters':\n",
    "        st.header(\"Total Boosters \")\n",
    "        fig = px.pie(dataset, values=dataset['total_boosters'], names=dataset['location'])\n",
    "        st.plotly_chart (fig)\n",
    "    elif status_select=='handwashing_facilities':\n",
    "        st.header(\"Handwashing Facilities \")\n",
    "        fig = px.pie(dataset, values=dataset['handwashing_facilities'], names=dataset['location'])\n",
    "        st.plotly_chart (fig)\n",
    "    elif status_select=='population':\n",
    "        st.header(\"Population \")\n",
    "        fig = px.pie(dataset, values=dataset['population'], names=dataset['location'])\n",
    "        st.plotly_chart (fig)\n",
    "    elif status_select=='cardiovasc_death_rate':\n",
    "        st.header(\"Cardiovascular Death Rate \")\n",
    "        fig = px.pie(dataset, values=dataset['cardiovasc_death_rate'], names=dataset['location'])\n",
    "        st.plotly_chart (fig)\n",
    "elif visualisation=='Line Chart':\n",
    "    if status_select == 'total_cases':\n",
    "        st.header(\"Total Confirmed Cases Among Countries\")\n",
    "        fig = px.line(dataset, x=dataset['location'], y=dataset['total_cases'])\n",
    "        st.plotly_chart(fig)\n",
    "    elif status_select=='new_cases':\n",
    "        st.header(\"Total Active Cases Among Countries\")\n",
    "        fig = px.line(dataset, x=dataset['location'], y=dataset['new_cases'])\n",
    "        st.plotly_chart(fig)\n",
    "    elif status_select=='total_deaths':\n",
    "        st.header(\"Total Deaths Among Countries\")\n",
    "        fig = px.line(dataset, x=dataset['location'], y=dataset['total_deaths'])\n",
    "        st.plotly_chart(fig)\n",
    "    elif status_select=='total_vaccinations':\n",
    "        st.header(\"Total Vaccinations Among Countries\")\n",
    "        fig = px.line(dataset, x=dataset['location'], y=dataset['total_vaccinations'])\n",
    "        st.plotly_chart(fig)\n",
    "    elif status_select=='total_boosters':\n",
    "        st.header(\"Total Boosters Among Countries\")\n",
    "        fig = px.line(dataset, x=dataset['location'], y=dataset['total_boosters'])\n",
    "        st.plotly_chart(fig)\n",
    "    elif status_select=='handwashing_facilities':\n",
    "        st.header(\"Handwashing Facilities Among Countries\")\n",
    "        fig = px.line(dataset, x=dataset['location'], y=dataset['handwashing_facilities'])\n",
    "        st.plotly_chart(fig)\n",
    "    elif status_select=='population':\n",
    "        st.header(\"Population Among Countries\")\n",
    "        fig = px.line(dataset, x=dataset['location'], y=dataset['population'])\n",
    "        st.plotly_chart(fig)\n",
    "    elif status_select=='cardiovasc_death_rate':\n",
    "        st.header(\"Cardiovascular Death Rate Among Countries\")\n",
    "        fig = px.line(dataset, x=dataset['location'], y=dataset['cardiovasc_death_rate'])\n",
    "        st.plotly_chart(fig)"
   ]
  },
  {
   "cell_type": "code",
   "execution_count": 18,
   "id": "e72efab1",
   "metadata": {},
   "outputs": [],
   "source": [
    "hide = \"\"\"\n",
    "         <style>\n",
    "         footer {visibility:hidden;}\n",
    "         </style>\n",
    "         \"\"\""
   ]
  },
  {
   "cell_type": "code",
   "execution_count": 19,
   "id": "39d6257a",
   "metadata": {},
   "outputs": [
    {
     "data": {
      "text/plain": [
       "DeltaGenerator()"
      ]
     },
     "execution_count": 19,
     "metadata": {},
     "output_type": "execute_result"
    }
   ],
   "source": [
    "st.markdown(hide, unsafe_allow_html = True)"
   ]
  },
  {
   "cell_type": "code",
   "execution_count": null,
   "id": "0f495ff5",
   "metadata": {},
   "outputs": [],
   "source": []
  }
 ],
 "metadata": {
  "kernelspec": {
   "display_name": "Python 3 (ipykernel)",
   "language": "python",
   "name": "python3"
  },
  "language_info": {
   "codemirror_mode": {
    "name": "ipython",
    "version": 3
   },
   "file_extension": ".py",
   "mimetype": "text/x-python",
   "name": "python",
   "nbconvert_exporter": "python",
   "pygments_lexer": "ipython3",
   "version": "3.9.13"
  }
 },
 "nbformat": 4,
 "nbformat_minor": 5
}
